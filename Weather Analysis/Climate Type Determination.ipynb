{
 "cells": [
  {
   "cell_type": "code",
   "execution_count": 1,
   "metadata": {
    "collapsed": false
   },
   "outputs": [
    {
     "name": "stdout",
     "output_type": "stream",
     "text": [
      "Populating the interactive namespace from numpy and matplotlib\n"
     ]
    }
   ],
   "source": [
    "import os\n",
    "import numpy as np\n",
    "import pandas as pd\n",
    "import matplotlib.pyplot as plt\n",
    "\n",
    "import matplotlib\n",
    "matplotlib.style.use('ggplot')\n",
    "\n",
    "%pylab inline"
   ]
  },
  {
   "cell_type": "code",
   "execution_count": 2,
   "metadata": {
    "collapsed": true
   },
   "outputs": [],
   "source": [
    "from sitka.general.settings import *\n",
    "from sitka.io.time import *\n",
    "from sitka.io.weather import *\n",
    "from sitka.calculations.solar import *\n",
    "from sitka.components.site import *"
   ]
  },
  {
   "cell_type": "code",
   "execution_count": 3,
   "metadata": {
    "collapsed": true
   },
   "outputs": [],
   "source": [
    "dir_path = os.getcwd()\n",
    "weather_file = os.path.join(dir_path, 'USA_WA_Seattle-Boeing.Field.727935_TMY3.epw')"
   ]
  },
  {
   "cell_type": "code",
   "execution_count": 4,
   "metadata": {
    "collapsed": true
   },
   "outputs": [],
   "source": [
    "start_hour = 0\n",
    "end_hour = 8760\n",
    "time_steps_per_hour = 4"
   ]
  },
  {
   "cell_type": "code",
   "execution_count": 5,
   "metadata": {
    "collapsed": false
   },
   "outputs": [
    {
     "name": "stdout",
     "output_type": "stream",
     "text": [
      "Updating time object\n",
      "Importing weather data.\n",
      "file imported.\n",
      "Resampling weather data.\n",
      "Seattle Boeing Field  Isis\n",
      "47.68\n",
      "-122.25\n",
      "Updating solar angles\n"
     ]
    }
   ],
   "source": [
    "# Simulation run parameters\n",
    "settings = Settings(dir_path)\n",
    "\n",
    "time = Time(start_hour=start_hour, end_hour=end_hour, time_steps_per_hour=time_steps_per_hour)\n",
    "\n",
    "weather = EPW(settings, time, weather_file)\n",
    "print(weather.location)\n",
    "\n",
    "# Setup site\n",
    "site = Site(weather.latitude, weather.longitude, weather.elevation)\n",
    "print(site.latitude)\n",
    "print(site.longitude)\n",
    "\n",
    "# Solar angles\n",
    "solar_angles = SolarAngles(time, site)"
   ]
  },
  {
   "cell_type": "markdown",
   "metadata": {},
   "source": [
    "# Analysis"
   ]
  },
  {
   "cell_type": "markdown",
   "metadata": {},
   "source": [
    "## Inputs"
   ]
  },
  {
   "cell_type": "code",
   "execution_count": 6,
   "metadata": {
    "collapsed": true
   },
   "outputs": [],
   "source": [
    "# Comfort criteria\n",
    "min_dry_bulb_temperature = 15  # deg C\n",
    "max_dry_bulb_temperature = 25  # deg C"
   ]
  },
  {
   "cell_type": "markdown",
   "metadata": {},
   "source": [
    "## Comfort Determination"
   ]
  },
  {
   "cell_type": "code",
   "execution_count": 7,
   "metadata": {
    "collapsed": false
   },
   "outputs": [
    {
     "data": {
      "text/plain": [
       "<matplotlib.text.Text at 0x26c20d8bd30>"
      ]
     },
     "execution_count": 7,
     "metadata": {},
     "output_type": "execute_result"
    },
    {
     "data": {
      "image/png": "[encoded data removed]",
      "text/plain": [
       "<matplotlib.figure.Figure at 0x26c1f4dcc50>"
      ]
     },
     "metadata": {},
     "output_type": "display_data"
    }
   ],
   "source": [
    "# Determine whether dry-bulb temperature is within the comfort criteria\n",
    "comfort = pd.DataFrame({\n",
    "        'dry_bulb_temperature': weather.dry_bulb_temperature,\n",
    "        'comfortable': np.ones(weather.dry_bulb_temperature.count())*0,\n",
    "})\n",
    "\n",
    "criteria = ((comfort['dry_bulb_temperature'] >= min_dry_bulb_temperature) & (comfort['dry_bulb_temperature'] <= max_dry_bulb_temperature))\n",
    "comfort[criteria] = 1\n",
    "\n",
    "comfort = comfort.resample('1H').min().resample('1D').sum().resample('1M').mean()\n",
    "\n",
    "comfort.index = ['Jan', 'Feb', 'Mar', 'Apr', 'May', 'Jun', 'Jul', 'Aug', 'Sep', 'Oct', 'Nov', 'Dec']\n",
    "ax = comfort['comfortable'].plot(legend=False, color=['blue', 'red', 'purple'], figsize=(16, 6))\n",
    "\n",
    "ax.set_ylabel('Number of Hours', fontsize=20)\n",
    "ax.set_xlabel('Month', fontsize=20)"
   ]
  },
  {
   "cell_type": "code",
   "execution_count": 8,
   "metadata": {
    "collapsed": false
   },
   "outputs": [
    {
     "ename": "NameError",
     "evalue": "name 'df2' is not defined",
     "output_type": "error",
     "traceback": [
      "\u001b[0;31m---------------------------------------------------------------------------\u001b[0m",
      "\u001b[0;31mNameError\u001b[0m                                 Traceback (most recent call last)",
      "\u001b[0;32m<ipython-input-8-43bbfb2409d7>\u001b[0m in \u001b[0;36m<module>\u001b[0;34m()\u001b[0m\n\u001b[1;32m      6\u001b[0m \u001b[1;33m\u001b[0m\u001b[0m\n\u001b[1;32m      7\u001b[0m \u001b[1;32mfor\u001b[0m \u001b[0mi\u001b[0m \u001b[1;32min\u001b[0m \u001b[0mrange\u001b[0m\u001b[1;33m(\u001b[0m\u001b[1;36m1\u001b[0m\u001b[1;33m,\u001b[0m \u001b[1;36m13\u001b[0m\u001b[1;33m)\u001b[0m\u001b[1;33m:\u001b[0m\u001b[1;33m\u001b[0m\u001b[0m\n\u001b[0;32m----> 8\u001b[0;31m     \u001b[0mmonth_data\u001b[0m \u001b[1;33m=\u001b[0m \u001b[0mdf2\u001b[0m\u001b[1;33m.\u001b[0m\u001b[0mcopy\u001b[0m\u001b[1;33m(\u001b[0m\u001b[1;33m)\u001b[0m\u001b[1;33m[\u001b[0m\u001b[1;33m(\u001b[0m\u001b[0mdf2\u001b[0m\u001b[1;33m.\u001b[0m\u001b[0mindex\u001b[0m\u001b[1;33m.\u001b[0m\u001b[0mmonth\u001b[0m \u001b[1;33m==\u001b[0m \u001b[0mi\u001b[0m\u001b[1;33m)\u001b[0m\u001b[1;33m]\u001b[0m\u001b[1;33m\u001b[0m\u001b[0m\n\u001b[0m\u001b[1;32m      9\u001b[0m \u001b[1;33m\u001b[0m\u001b[0m\n\u001b[1;32m     10\u001b[0m     \u001b[0mvar\u001b[0m \u001b[1;33m=\u001b[0m \u001b[0mmonth_data\u001b[0m\u001b[1;33m[\u001b[0m\u001b[1;34m'dry_bulb_temperature'\u001b[0m\u001b[1;33m]\u001b[0m\u001b[1;33m[\u001b[0m\u001b[1;33m(\u001b[0m\u001b[0mmonth_data\u001b[0m\u001b[1;33m[\u001b[0m\u001b[1;34m'dry_bulb_temperature'\u001b[0m\u001b[1;33m]\u001b[0m \u001b[1;33m<\u001b[0m \u001b[0mmin_dry_bulb_temperature\u001b[0m\u001b[1;33m)\u001b[0m\u001b[1;33m]\u001b[0m\u001b[1;33m.\u001b[0m\u001b[0mcount\u001b[0m\u001b[1;33m(\u001b[0m\u001b[1;33m)\u001b[0m\u001b[1;33m\u001b[0m\u001b[0m\n",
      "\u001b[0;31mNameError\u001b[0m: name 'df2' is not defined"
     ]
    }
   ],
   "source": [
    "temp = {\n",
    "    'Comfortable': [],\n",
    "    'Cold': [],\n",
    "    'Hot': [],\n",
    "}\n",
    "\n",
    "for i in range(1, 13):   \n",
    "    month_data = df2.copy()[(df2.index.month == i)]\n",
    "    \n",
    "    var = month_data['dry_bulb_temperature'][(month_data['dry_bulb_temperature'] < min_dry_bulb_temperature)].count()\n",
    "    temp['Cold'].append(var)\n",
    "    month_data = month_data[(month_data['dry_bulb_temperature'] >= min_dry_bulb_temperature)]\n",
    "    \n",
    "    var = month_data['dry_bulb_temperature'][(month_data['dry_bulb_temperature'] > max_dry_bulb_temperature)].count()\n",
    "    temp['Hot'].append(var)\n",
    "    month_data = month_data[(month_data['dry_bulb_temperature'] <= max_dry_bulb_temperature)]\n",
    "    \n",
    "    temp['Acceptable'].append(month_data['name'].count())"
   ]
  },
  {
   "cell_type": "code",
   "execution_count": null,
   "metadata": {
    "collapsed": true
   },
   "outputs": [],
   "source": []
  },
  {
   "cell_type": "code",
   "execution_count": null,
   "metadata": {
    "collapsed": true
   },
   "outputs": [],
   "source": []
  }
 ],
 "metadata": {
  "kernelspec": {
   "display_name": "Python 3",
   "language": "python",
   "name": "python3"
  },
  "language_info": {
   "codemirror_mode": {
    "name": "ipython",
    "version": 3
   },
   "file_extension": ".py",
   "mimetype": "text/x-python",
   "name": "python",
   "nbconvert_exporter": "python",
   "pygments_lexer": "ipython3",
   "version": "3.6.0"
  }
 },
 "nbformat": 4,
 "nbformat_minor": 2
}
